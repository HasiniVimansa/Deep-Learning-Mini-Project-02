{
  "nbformat": 4,
  "nbformat_minor": 0,
  "metadata": {
    "colab": {
      "provenance": []
    },
    "kernelspec": {
      "name": "python3",
      "display_name": "Python 3"
    },
    "language_info": {
      "name": "python"
    }
  },
  "cells": [
    {
      "cell_type": "code",
      "source": [
        "import numpy as np\n",
        "import pandas as pd\n",
        "import matplotlib.pyplot as plt\n",
        "from sklearn.preprocessing import MinMaxScaler\n",
        "from keras.models import Sequential\n",
        "from keras.layers import LSTM, Dense\n",
        "from sklearn.metrics import mean_squared_error\n"
      ],
      "metadata": {
        "id": "h6QnQskhvNiR"
      },
      "execution_count": 1,
      "outputs": []
    },
    {
      "cell_type": "code",
      "source": [
        "from google.colab import drive\n",
        "drive.mount('/content/drive')"
      ],
      "metadata": {
        "colab": {
          "base_uri": "https://localhost:8080/"
        },
        "id": "aIcTbtEdvY5V",
        "outputId": "5b4af9e0-ea43-406a-f766-62ffc360c5f4"
      },
      "execution_count": 2,
      "outputs": [
        {
          "output_type": "stream",
          "name": "stdout",
          "text": [
            "Drive already mounted at /content/drive; to attempt to forcibly remount, call drive.mount(\"/content/drive\", force_remount=True).\n"
          ]
        }
      ]
    },
    {
      "cell_type": "code",
      "source": [
        "\n",
        "df = pd.read_csv('/content/drive/MyDrive/Train.csv')\n",
        "\n",
        "print(df.head())\n"
      ],
      "metadata": {
        "colab": {
          "base_uri": "https://localhost:8080/"
        },
        "id": "NsUf1Yy6vVZY",
        "outputId": "2716ddd2-315c-43ed-f276-3605ae1fec5e"
      },
      "execution_count": 3,
      "outputs": [
        {
          "output_type": "stream",
          "name": "stdout",
          "text": [
            "         Date  Price  Open  High   Low     Vol. Change %\n",
            "0  02/22/2024   91.6  91.1  91.6  90.9  180.10K    0.55%\n",
            "1  02/21/2024   91.1  91.0  91.4  90.6  255.22K    0.11%\n",
            "2  02/20/2024   91.0  91.1  91.5  90.3  128.71K    0.00%\n",
            "3  02/19/2024   91.0  90.0  91.5  89.6  434.43K    1.22%\n",
            "4  02/16/2024   89.9  89.0  90.0  89.0  169.15K    0.45%\n"
          ]
        }
      ]
    },
    {
      "cell_type": "code",
      "source": [
        "print(df.tail())"
      ],
      "metadata": {
        "colab": {
          "base_uri": "https://localhost:8080/"
        },
        "id": "Mk91oFacw7pD",
        "outputId": "b9476737-33fd-45e1-fe87-5b33c9220916"
      },
      "execution_count": 4,
      "outputs": [
        {
          "output_type": "stream",
          "name": "stdout",
          "text": [
            "            Date  Price   Open   High    Low     Vol. Change %\n",
            "1158  03/01/2019  88.11  90.67  90.67  87.85   67.67K   -2.27%\n",
            "1159  02/28/2019  90.16  91.53  91.53  89.82  407.45K   -1.40%\n",
            "1160  02/27/2019  91.44  92.30  92.39  91.10   11.98K   -0.93%\n",
            "1161  02/26/2019  92.30  91.70  92.39  91.10   14.20K    1.80%\n",
            "1162  02/25/2019  90.67  92.21  92.21  89.82  134.06K   -1.04%\n"
          ]
        }
      ]
    },
    {
      "cell_type": "code",
      "source": [
        "df.info()"
      ],
      "metadata": {
        "colab": {
          "base_uri": "https://localhost:8080/"
        },
        "id": "hOY8nCXjxH0q",
        "outputId": "509609e4-4216-47d8-e163-0533cdb12ed1"
      },
      "execution_count": 5,
      "outputs": [
        {
          "output_type": "stream",
          "name": "stdout",
          "text": [
            "<class 'pandas.core.frame.DataFrame'>\n",
            "RangeIndex: 1163 entries, 0 to 1162\n",
            "Data columns (total 7 columns):\n",
            " #   Column    Non-Null Count  Dtype  \n",
            "---  ------    --------------  -----  \n",
            " 0   Date      1163 non-null   object \n",
            " 1   Price     1163 non-null   float64\n",
            " 2   Open      1163 non-null   float64\n",
            " 3   High      1163 non-null   float64\n",
            " 4   Low       1163 non-null   float64\n",
            " 5   Vol.      1163 non-null   object \n",
            " 6   Change %  1163 non-null   object \n",
            "dtypes: float64(4), object(3)\n",
            "memory usage: 63.7+ KB\n"
          ]
        }
      ]
    },
    {
      "cell_type": "code",
      "source": [
        "df2 = df"
      ],
      "metadata": {
        "id": "9LbbjyD8PaVQ"
      },
      "execution_count": 6,
      "outputs": []
    },
    {
      "cell_type": "code",
      "source": [
        "df = df.iloc[:, 1:2].values"
      ],
      "metadata": {
        "id": "nlFdp7qBxXUz"
      },
      "execution_count": 7,
      "outputs": []
    },
    {
      "cell_type": "code",
      "source": [
        "df.shape,df.shape"
      ],
      "metadata": {
        "colab": {
          "base_uri": "https://localhost:8080/"
        },
        "id": "jDKmkaqqyb-h",
        "outputId": "b9d682c8-dc22-4300-a127-6bf3f6fe833c"
      },
      "execution_count": 8,
      "outputs": [
        {
          "output_type": "execute_result",
          "data": {
            "text/plain": [
              "((1163, 1), (1163, 1))"
            ]
          },
          "metadata": {},
          "execution_count": 8
        }
      ]
    },
    {
      "cell_type": "code",
      "source": [
        "sc = MinMaxScaler(feature_range=(0,1))\n",
        "df_scaled = sc.fit_transform(df)"
      ],
      "metadata": {
        "id": "vGM6xlhOy5dM"
      },
      "execution_count": 9,
      "outputs": []
    },
    {
      "cell_type": "code",
      "source": [
        "df_scaled"
      ],
      "metadata": {
        "colab": {
          "base_uri": "https://localhost:8080/"
        },
        "id": "NlZYE9-B03i5",
        "outputId": "05804a95-3ec0-416d-c309-2778d076e1b2"
      },
      "execution_count": 10,
      "outputs": [
        {
          "output_type": "execute_result",
          "data": {
            "text/plain": [
              "array([[0.76941553],\n",
              "       [0.76140913],\n",
              "       [0.75980785],\n",
              "       ...,\n",
              "       [0.76685348],\n",
              "       [0.7806245 ],\n",
              "       [0.75452362]])"
            ]
          },
          "metadata": {},
          "execution_count": 10
        }
      ]
    },
    {
      "cell_type": "code",
      "source": [
        "#creating a data structure with 60 time steps and one output\n",
        "x_train = []\n",
        "y_train = []\n",
        "\n",
        "for i in range(60 , 1163):\n",
        "  x_train.append(df_scaled[i-60:i,0])\n",
        "  y_train.append(df_scaled[i,0])\n",
        "\n",
        "x_train, y_train = np.array(x_train) , np.array(y_train)"
      ],
      "metadata": {
        "id": "915H5Gg62EXh"
      },
      "execution_count": 11,
      "outputs": []
    },
    {
      "cell_type": "code",
      "source": [
        "x_train"
      ],
      "metadata": {
        "colab": {
          "base_uri": "https://localhost:8080/"
        },
        "id": "RZW8YOpf3omG",
        "outputId": "cb723117-4248-464f-a6dc-6c21c4e7524f"
      },
      "execution_count": 12,
      "outputs": [
        {
          "output_type": "execute_result",
          "data": {
            "text/plain": [
              "array([[0.76941553, 0.76140913, 0.75980785, ..., 0.67173739, 0.66373098,\n",
              "        0.66373098],\n",
              "       [0.76140913, 0.75980785, 0.75980785, ..., 0.66373098, 0.66373098,\n",
              "        0.63971177],\n",
              "       [0.75980785, 0.75980785, 0.74219376, ..., 0.66373098, 0.63971177,\n",
              "        0.64771817],\n",
              "       ...,\n",
              "       [0.57758207, 0.58879103, 0.58446757, ..., 0.71353082, 0.71353082,\n",
              "        0.74635709],\n",
              "       [0.58879103, 0.58446757, 0.5817454 , ..., 0.71353082, 0.74635709,\n",
              "        0.76685348],\n",
              "       [0.58446757, 0.5817454 , 0.56220977, ..., 0.74635709, 0.76685348,\n",
              "        0.7806245 ]])"
            ]
          },
          "metadata": {},
          "execution_count": 12
        }
      ]
    },
    {
      "cell_type": "code",
      "source": [
        "y_train"
      ],
      "metadata": {
        "colab": {
          "base_uri": "https://localhost:8080/"
        },
        "id": "srBvCUa44Bpg",
        "outputId": "fb4ed99d-8f0f-407e-ec2e-8c058d7c35f1"
      },
      "execution_count": 13,
      "outputs": [
        {
          "output_type": "execute_result",
          "data": {
            "text/plain": [
              "array([0.63971177, 0.64771817, 0.63010408, ..., 0.76685348, 0.7806245 ,\n",
              "       0.75452362])"
            ]
          },
          "metadata": {},
          "execution_count": 13
        }
      ]
    },
    {
      "cell_type": "code",
      "source": [
        "x_train.shape"
      ],
      "metadata": {
        "colab": {
          "base_uri": "https://localhost:8080/"
        },
        "id": "ilbfWTba5i1J",
        "outputId": "933a4d1b-fa52-4bfb-d6d0-6c4ee727aafb"
      },
      "execution_count": 14,
      "outputs": [
        {
          "output_type": "execute_result",
          "data": {
            "text/plain": [
              "(1103, 60)"
            ]
          },
          "metadata": {},
          "execution_count": 14
        }
      ]
    },
    {
      "cell_type": "code",
      "source": [
        "x_train = x_train.reshape(1103,60,1)"
      ],
      "metadata": {
        "id": "o6PZMhzC5M4q"
      },
      "execution_count": 15,
      "outputs": []
    },
    {
      "cell_type": "code",
      "source": [
        "x_train.shape"
      ],
      "metadata": {
        "colab": {
          "base_uri": "https://localhost:8080/"
        },
        "id": "qlC9fIul6Tlt",
        "outputId": "36e86163-d4a0-4a67-a60f-d15b141062cf"
      },
      "execution_count": 16,
      "outputs": [
        {
          "output_type": "execute_result",
          "data": {
            "text/plain": [
              "(1103, 60, 1)"
            ]
          },
          "metadata": {},
          "execution_count": 16
        }
      ]
    },
    {
      "cell_type": "markdown",
      "source": [
        "Buiding LSTM"
      ],
      "metadata": {
        "id": "ahJgcWT26XiF"
      }
    },
    {
      "cell_type": "code",
      "source": [
        "import tensorflow as tf\n",
        "model = tf.keras.models.Sequential()"
      ],
      "metadata": {
        "id": "ILBblXW76Zvd"
      },
      "execution_count": 17,
      "outputs": []
    },
    {
      "cell_type": "code",
      "source": [
        "#first LSTM\n",
        "model.add(tf.keras.layers.LSTM(units = 60, activation= 'relu',return_sequences=True,input_shape=(60,1)))\n",
        "model.add(tf.keras.layers.Dropout(0.2))\n",
        "\n",
        "#second LSTM\n",
        "model.add(tf.keras.layers.LSTM(units = 60, activation= 'relu',return_sequences=True))\n",
        "model.add(tf.keras.layers.Dropout(0.2))\n",
        "\n",
        "#third LSTM\n",
        "model.add(tf.keras.layers.LSTM(units = 80, activation= 'relu',return_sequences=True))\n",
        "model.add(tf.keras.layers.Dropout(0.2))\n",
        "\n",
        "#fourth LSTM\n",
        "model.add(tf.keras.layers.LSTM(units = 60, activation= 'relu'))\n",
        "model.add(tf.keras.layers.Dropout(0.2))"
      ],
      "metadata": {
        "id": "Hs95NQYs60vF"
      },
      "execution_count": 18,
      "outputs": []
    },
    {
      "cell_type": "code",
      "source": [
        "model.add(tf.keras.layers.Dense(units=1))"
      ],
      "metadata": {
        "id": "XtCR0oGf9Rs_"
      },
      "execution_count": 19,
      "outputs": []
    },
    {
      "cell_type": "code",
      "source": [
        "model.summary()"
      ],
      "metadata": {
        "colab": {
          "base_uri": "https://localhost:8080/"
        },
        "id": "Wk4_sGTr9lfa",
        "outputId": "5cdc0c7c-0583-457e-fa75-23851e4b1881"
      },
      "execution_count": 20,
      "outputs": [
        {
          "output_type": "stream",
          "name": "stdout",
          "text": [
            "Model: \"sequential\"\n",
            "_________________________________________________________________\n",
            " Layer (type)                Output Shape              Param #   \n",
            "=================================================================\n",
            " lstm (LSTM)                 (None, 60, 60)            14880     \n",
            "                                                                 \n",
            " dropout (Dropout)           (None, 60, 60)            0         \n",
            "                                                                 \n",
            " lstm_1 (LSTM)               (None, 60, 60)            29040     \n",
            "                                                                 \n",
            " dropout_1 (Dropout)         (None, 60, 60)            0         \n",
            "                                                                 \n",
            " lstm_2 (LSTM)               (None, 60, 80)            45120     \n",
            "                                                                 \n",
            " dropout_2 (Dropout)         (None, 60, 80)            0         \n",
            "                                                                 \n",
            " lstm_3 (LSTM)               (None, 60)                33840     \n",
            "                                                                 \n",
            " dropout_3 (Dropout)         (None, 60)                0         \n",
            "                                                                 \n",
            " dense (Dense)               (None, 1)                 61        \n",
            "                                                                 \n",
            "=================================================================\n",
            "Total params: 122941 (480.24 KB)\n",
            "Trainable params: 122941 (480.24 KB)\n",
            "Non-trainable params: 0 (0.00 Byte)\n",
            "_________________________________________________________________\n"
          ]
        }
      ]
    },
    {
      "cell_type": "code",
      "source": [
        "#compile the model\n",
        "model.compile(optimizer='adam',loss = 'mean_squared_error')"
      ],
      "metadata": {
        "id": "yFxAUekv9yFI"
      },
      "execution_count": 21,
      "outputs": []
    },
    {
      "cell_type": "markdown",
      "source": [
        "Training the model"
      ],
      "metadata": {
        "id": "8VI8nfOH-2NV"
      }
    },
    {
      "cell_type": "code",
      "source": [
        "model.fit(x_train,y_train,batch_size=32, epochs=100)"
      ],
      "metadata": {
        "colab": {
          "base_uri": "https://localhost:8080/"
        },
        "id": "ODoWvquz-4v0",
        "outputId": "feeb9935-042f-46c4-d0cc-47caa9ab9192"
      },
      "execution_count": 22,
      "outputs": [
        {
          "output_type": "stream",
          "name": "stdout",
          "text": [
            "Epoch 1/100\n",
            "35/35 [==============================] - 9s 108ms/step - loss: 0.0756\n",
            "Epoch 2/100\n",
            "35/35 [==============================] - 4s 129ms/step - loss: 0.0182\n",
            "Epoch 3/100\n",
            "35/35 [==============================] - 5s 133ms/step - loss: 0.0139\n",
            "Epoch 4/100\n",
            "35/35 [==============================] - 4s 107ms/step - loss: 0.0115\n",
            "Epoch 5/100\n",
            "35/35 [==============================] - 4s 112ms/step - loss: 0.0112\n",
            "Epoch 6/100\n",
            "35/35 [==============================] - 5s 149ms/step - loss: 0.0098\n",
            "Epoch 7/100\n",
            "35/35 [==============================] - 4s 107ms/step - loss: 0.0083\n",
            "Epoch 8/100\n",
            "35/35 [==============================] - 4s 109ms/step - loss: 0.0084\n",
            "Epoch 9/100\n",
            "35/35 [==============================] - 5s 154ms/step - loss: 0.0082\n",
            "Epoch 10/100\n",
            "35/35 [==============================] - 4s 108ms/step - loss: 0.0072\n",
            "Epoch 11/100\n",
            "35/35 [==============================] - 4s 108ms/step - loss: 0.0068\n",
            "Epoch 12/100\n",
            "35/35 [==============================] - 5s 150ms/step - loss: 0.0070\n",
            "Epoch 13/100\n",
            "35/35 [==============================] - 4s 109ms/step - loss: 0.0067\n",
            "Epoch 14/100\n",
            "35/35 [==============================] - 4s 108ms/step - loss: 0.0060\n",
            "Epoch 15/100\n",
            "35/35 [==============================] - 5s 131ms/step - loss: 0.0062\n",
            "Epoch 16/100\n",
            "35/35 [==============================] - 5s 128ms/step - loss: 0.0060\n",
            "Epoch 17/100\n",
            "35/35 [==============================] - 5s 145ms/step - loss: 0.0059\n",
            "Epoch 18/100\n",
            "35/35 [==============================] - 5s 137ms/step - loss: 0.0063\n",
            "Epoch 19/100\n",
            "35/35 [==============================] - 4s 123ms/step - loss: 0.0068\n",
            "Epoch 20/100\n",
            "35/35 [==============================] - 4s 109ms/step - loss: 0.0058\n",
            "Epoch 21/100\n",
            "35/35 [==============================] - 4s 122ms/step - loss: 0.0053\n",
            "Epoch 22/100\n",
            "35/35 [==============================] - 5s 139ms/step - loss: 0.0053\n",
            "Epoch 23/100\n",
            "35/35 [==============================] - 4s 109ms/step - loss: 0.0050\n",
            "Epoch 24/100\n",
            "35/35 [==============================] - 4s 109ms/step - loss: 0.0052\n",
            "Epoch 25/100\n",
            "35/35 [==============================] - 5s 155ms/step - loss: 0.0055\n",
            "Epoch 26/100\n",
            "35/35 [==============================] - 4s 108ms/step - loss: 0.0051\n",
            "Epoch 27/100\n",
            "35/35 [==============================] - 4s 108ms/step - loss: 0.0048\n",
            "Epoch 28/100\n",
            "35/35 [==============================] - 5s 154ms/step - loss: 0.0051\n",
            "Epoch 29/100\n",
            "35/35 [==============================] - 4s 108ms/step - loss: 0.0046\n",
            "Epoch 30/100\n",
            "35/35 [==============================] - 4s 109ms/step - loss: 0.0043\n",
            "Epoch 31/100\n",
            "35/35 [==============================] - 5s 147ms/step - loss: 0.0044\n",
            "Epoch 32/100\n",
            "35/35 [==============================] - 4s 116ms/step - loss: 0.0040\n",
            "Epoch 33/100\n",
            "35/35 [==============================] - 4s 110ms/step - loss: 0.0045\n",
            "Epoch 34/100\n",
            "35/35 [==============================] - 4s 129ms/step - loss: 0.0043\n",
            "Epoch 35/100\n",
            "35/35 [==============================] - 5s 132ms/step - loss: 0.0051\n",
            "Epoch 36/100\n",
            "35/35 [==============================] - 4s 108ms/step - loss: 0.0044\n",
            "Epoch 37/100\n",
            "35/35 [==============================] - 4s 109ms/step - loss: 0.0040\n",
            "Epoch 38/100\n",
            "35/35 [==============================] - 5s 151ms/step - loss: 0.0042\n",
            "Epoch 39/100\n",
            "35/35 [==============================] - 4s 108ms/step - loss: 0.0038\n",
            "Epoch 40/100\n",
            "35/35 [==============================] - 4s 110ms/step - loss: 0.0039\n",
            "Epoch 41/100\n",
            "35/35 [==============================] - 5s 154ms/step - loss: 0.0038\n",
            "Epoch 42/100\n",
            "35/35 [==============================] - 4s 108ms/step - loss: 0.0040\n",
            "Epoch 43/100\n",
            "35/35 [==============================] - 4s 109ms/step - loss: 0.0041\n",
            "Epoch 44/100\n",
            "35/35 [==============================] - 5s 150ms/step - loss: 0.0039\n",
            "Epoch 45/100\n",
            "35/35 [==============================] - 4s 111ms/step - loss: 0.0039\n",
            "Epoch 46/100\n",
            "35/35 [==============================] - 4s 109ms/step - loss: 0.0037\n",
            "Epoch 47/100\n",
            "35/35 [==============================] - 5s 133ms/step - loss: 0.0035\n",
            "Epoch 48/100\n",
            "35/35 [==============================] - 5s 128ms/step - loss: 0.0036\n",
            "Epoch 49/100\n",
            "35/35 [==============================] - 4s 109ms/step - loss: 0.0038\n",
            "Epoch 50/100\n",
            "35/35 [==============================] - 4s 116ms/step - loss: 0.0036\n",
            "Epoch 51/100\n",
            "35/35 [==============================] - 5s 145ms/step - loss: 0.0037\n",
            "Epoch 52/100\n",
            "35/35 [==============================] - 4s 109ms/step - loss: 0.0038\n",
            "Epoch 53/100\n",
            "35/35 [==============================] - 4s 108ms/step - loss: 0.0036\n",
            "Epoch 54/100\n",
            "35/35 [==============================] - 5s 154ms/step - loss: 0.0034\n",
            "Epoch 55/100\n",
            "35/35 [==============================] - 4s 107ms/step - loss: 0.0034\n",
            "Epoch 56/100\n",
            "35/35 [==============================] - 4s 108ms/step - loss: 0.0036\n",
            "Epoch 57/100\n",
            "35/35 [==============================] - 5s 154ms/step - loss: 0.0036\n",
            "Epoch 58/100\n",
            "35/35 [==============================] - 4s 108ms/step - loss: 0.0033\n",
            "Epoch 59/100\n",
            "35/35 [==============================] - 4s 110ms/step - loss: 0.0031\n",
            "Epoch 60/100\n",
            "35/35 [==============================] - 5s 135ms/step - loss: 0.0034\n",
            "Epoch 61/100\n",
            "35/35 [==============================] - 4s 125ms/step - loss: 0.0034\n",
            "Epoch 62/100\n",
            "35/35 [==============================] - 4s 109ms/step - loss: 0.0033\n",
            "Epoch 63/100\n",
            "35/35 [==============================] - 4s 119ms/step - loss: 0.0031\n",
            "Epoch 64/100\n",
            "35/35 [==============================] - 5s 143ms/step - loss: 0.0030\n",
            "Epoch 65/100\n",
            "35/35 [==============================] - 4s 109ms/step - loss: 0.0029\n",
            "Epoch 66/100\n",
            "35/35 [==============================] - 4s 109ms/step - loss: 0.0030\n",
            "Epoch 67/100\n",
            "35/35 [==============================] - 5s 155ms/step - loss: 0.0028\n",
            "Epoch 68/100\n",
            "35/35 [==============================] - 4s 108ms/step - loss: 0.0031\n",
            "Epoch 69/100\n",
            "35/35 [==============================] - 4s 109ms/step - loss: 0.0032\n",
            "Epoch 70/100\n",
            "35/35 [==============================] - 5s 153ms/step - loss: 0.0027\n",
            "Epoch 71/100\n",
            "35/35 [==============================] - 4s 109ms/step - loss: 0.0029\n",
            "Epoch 72/100\n",
            "35/35 [==============================] - 4s 108ms/step - loss: 0.0030\n",
            "Epoch 73/100\n",
            "35/35 [==============================] - 5s 141ms/step - loss: 0.0026\n",
            "Epoch 74/100\n",
            "35/35 [==============================] - 4s 118ms/step - loss: 0.0031\n",
            "Epoch 75/100\n",
            "35/35 [==============================] - 4s 108ms/step - loss: 0.0028\n",
            "Epoch 76/100\n",
            "35/35 [==============================] - 4s 122ms/step - loss: 0.0026\n",
            "Epoch 77/100\n",
            "35/35 [==============================] - 5s 138ms/step - loss: 0.0030\n",
            "Epoch 78/100\n",
            "35/35 [==============================] - 4s 108ms/step - loss: 0.0034\n",
            "Epoch 79/100\n",
            "35/35 [==============================] - 4s 109ms/step - loss: 0.0027\n",
            "Epoch 80/100\n",
            "35/35 [==============================] - 5s 154ms/step - loss: 0.0027\n",
            "Epoch 81/100\n",
            "35/35 [==============================] - 4s 108ms/step - loss: 0.0026\n",
            "Epoch 82/100\n",
            "35/35 [==============================] - 4s 108ms/step - loss: 0.0027\n",
            "Epoch 83/100\n",
            "35/35 [==============================] - 5s 155ms/step - loss: 0.0028\n",
            "Epoch 84/100\n",
            "35/35 [==============================] - 4s 109ms/step - loss: 0.0024\n",
            "Epoch 85/100\n",
            "35/35 [==============================] - 4s 108ms/step - loss: 0.0025\n",
            "Epoch 86/100\n",
            "35/35 [==============================] - 5s 144ms/step - loss: 0.0028\n",
            "Epoch 87/100\n",
            "35/35 [==============================] - 4s 117ms/step - loss: 0.0024\n",
            "Epoch 88/100\n",
            "35/35 [==============================] - 4s 108ms/step - loss: 0.0027\n",
            "Epoch 89/100\n",
            "35/35 [==============================] - 4s 127ms/step - loss: 0.0026\n",
            "Epoch 90/100\n",
            "35/35 [==============================] - 5s 135ms/step - loss: 0.0026\n",
            "Epoch 91/100\n",
            "35/35 [==============================] - 4s 110ms/step - loss: 0.0024\n",
            "Epoch 92/100\n",
            "35/35 [==============================] - 4s 109ms/step - loss: 0.0026\n",
            "Epoch 93/100\n",
            "35/35 [==============================] - 5s 153ms/step - loss: 0.0029\n",
            "Epoch 94/100\n",
            "35/35 [==============================] - 4s 109ms/step - loss: 0.0026\n",
            "Epoch 95/100\n",
            "35/35 [==============================] - 4s 108ms/step - loss: 0.0026\n",
            "Epoch 96/100\n",
            "35/35 [==============================] - 5s 154ms/step - loss: 0.0027\n",
            "Epoch 97/100\n",
            "35/35 [==============================] - 4s 109ms/step - loss: 0.0025\n",
            "Epoch 98/100\n",
            "35/35 [==============================] - 4s 109ms/step - loss: 0.0024\n",
            "Epoch 99/100\n",
            "35/35 [==============================] - 5s 147ms/step - loss: 0.0025\n",
            "Epoch 100/100\n",
            "35/35 [==============================] - 4s 115ms/step - loss: 0.0024\n"
          ]
        },
        {
          "output_type": "execute_result",
          "data": {
            "text/plain": [
              "<keras.src.callbacks.History at 0x7c66d107f610>"
            ]
          },
          "metadata": {},
          "execution_count": 22
        }
      ]
    },
    {
      "cell_type": "markdown",
      "source": [
        "Making Predictions"
      ],
      "metadata": {
        "id": "w-86_vJd2ahW"
      }
    },
    {
      "cell_type": "code",
      "source": [
        "test_data = pd.read_csv('/content/drive/MyDrive/Test.csv')"
      ],
      "metadata": {
        "id": "9iOS9k2fyKye"
      },
      "execution_count": 34,
      "outputs": []
    },
    {
      "cell_type": "code",
      "source": [
        "test_data.shape"
      ],
      "metadata": {
        "colab": {
          "base_uri": "https://localhost:8080/"
        },
        "id": "zu6yjezG2h38",
        "outputId": "887d84a7-3002-4749-b109-5029af1128af"
      },
      "execution_count": 35,
      "outputs": [
        {
          "output_type": "execute_result",
          "data": {
            "text/plain": [
              "(20, 7)"
            ]
          },
          "metadata": {},
          "execution_count": 35
        }
      ]
    },
    {
      "cell_type": "code",
      "source": [
        "test_data.info()"
      ],
      "metadata": {
        "id": "6UtM68fW2nFh",
        "colab": {
          "base_uri": "https://localhost:8080/"
        },
        "outputId": "a776eba4-3847-4a09-cadd-4a34f34c2238"
      },
      "execution_count": 36,
      "outputs": [
        {
          "output_type": "stream",
          "name": "stdout",
          "text": [
            "<class 'pandas.core.frame.DataFrame'>\n",
            "RangeIndex: 20 entries, 0 to 19\n",
            "Data columns (total 7 columns):\n",
            " #   Column    Non-Null Count  Dtype  \n",
            "---  ------    --------------  -----  \n",
            " 0   Date      20 non-null     object \n",
            " 1   Price     20 non-null     float64\n",
            " 2   Open      20 non-null     float64\n",
            " 3   High      20 non-null     float64\n",
            " 4   Low       20 non-null     float64\n",
            " 5   Vol.      20 non-null     object \n",
            " 6   Change %  20 non-null     object \n",
            "dtypes: float64(4), object(3)\n",
            "memory usage: 1.2+ KB\n"
          ]
        }
      ]
    },
    {
      "cell_type": "code",
      "source": [
        "real_stock_price = test_data.iloc[:,1:2].values"
      ],
      "metadata": {
        "id": "ivUtG_Eg2wHZ"
      },
      "execution_count": 37,
      "outputs": []
    },
    {
      "cell_type": "code",
      "source": [
        "real_stock_price.shape"
      ],
      "metadata": {
        "id": "Tqk25omA3KlZ",
        "colab": {
          "base_uri": "https://localhost:8080/"
        },
        "outputId": "e44db9e1-d5f2-42c3-84c7-d0f2f764ddc3"
      },
      "execution_count": 38,
      "outputs": [
        {
          "output_type": "execute_result",
          "data": {
            "text/plain": [
              "(20, 1)"
            ]
          },
          "metadata": {},
          "execution_count": 38
        }
      ]
    },
    {
      "cell_type": "code",
      "source": [
        "#getting predicted stock prices\n",
        "dataset_total = pd.concat((df2['Price'], test_data['Price']), axis=0)\n",
        "inputs = dataset_total[len(dataset_total)-len(test_data)-60:].values\n",
        "inputs = inputs.reshape(-1,1)\n",
        "inputs = sc.transform(inputs) #feature scaling\n",
        "\n",
        "x_test = []\n",
        "for i in range(60,80):\n",
        "  x_test.append(inputs[i-60:i,0])\n",
        "\n",
        "x_test= np.array(x_test)\n",
        "\n",
        "x_test= np.reshape(x_test,(x_test.shape[0],x_test.shape[1],1))\n",
        "\n",
        "predicted = model.predict(x_test)\n",
        "predicted = sc.inverse_transform(predicted)\n",
        "\n"
      ],
      "metadata": {
        "id": "BDO7DVe53bck",
        "colab": {
          "base_uri": "https://localhost:8080/"
        },
        "outputId": "289b0bd1-5f88-40f7-cc0f-b59faac34eeb"
      },
      "execution_count": 39,
      "outputs": [
        {
          "output_type": "stream",
          "name": "stdout",
          "text": [
            "1/1 [==============================] - 0s 42ms/step\n"
          ]
        }
      ]
    },
    {
      "cell_type": "code",
      "source": [
        "print(predicted[5]), print(real_stock_price[0])"
      ],
      "metadata": {
        "colab": {
          "base_uri": "https://localhost:8080/"
        },
        "id": "_r4RKQAw5z7f",
        "outputId": "5b2c5ddc-d72e-4090-ac19-39e3cbf2afed"
      },
      "execution_count": 40,
      "outputs": [
        {
          "output_type": "stream",
          "name": "stdout",
          "text": [
            "[88.01119]\n",
            "[91.6]\n"
          ]
        },
        {
          "output_type": "execute_result",
          "data": {
            "text/plain": [
              "(None, None)"
            ]
          },
          "metadata": {},
          "execution_count": 40
        }
      ]
    },
    {
      "cell_type": "code",
      "source": [
        "plt.plot(real_stock_price, color = 'red', label = 'Actual Stock Price')\n",
        "plt.plot(predicted, color = 'green', label = 'Predicted Stock Price')\n",
        "plt.title('Stock price prediction')\n",
        "plt.xlabel('Time')\n",
        "plt.ylabel('Stock Price')\n",
        "plt.legend()\n",
        "plt.show()"
      ],
      "metadata": {
        "colab": {
          "base_uri": "https://localhost:8080/",
          "height": 472
        },
        "id": "xlLSMKziWT0n",
        "outputId": "48e133e3-02c5-4d5d-bde9-c610cf5b2255"
      },
      "execution_count": 50,
      "outputs": [
        {
          "output_type": "display_data",
          "data": {
            "text/plain": [
              "<Figure size 640x480 with 1 Axes>"
            ],
            "image/png": "[encoded data removed]"
          },
          "metadata": {}
        }
      ]
    },
    {
      "cell_type": "code",
      "source": [
        "# Calculate RMSE\n",
        "rmse = np.sqrt(np.mean((predicted - real_stock_price) ** 2))\n",
        "print(\"Root Mean Squared Error (RMSE):\", rmse)"
      ],
      "metadata": {
        "colab": {
          "base_uri": "https://localhost:8080/"
        },
        "id": "qLqublCtWiKN",
        "outputId": "c4da03ce-4028-4647-f5e2-d881c3d48212"
      },
      "execution_count": 52,
      "outputs": [
        {
          "output_type": "stream",
          "name": "stdout",
          "text": [
            "Root Mean Squared Error (RMSE): 1.7616797027015298\n"
          ]
        }
      ]
    }
  ]
}